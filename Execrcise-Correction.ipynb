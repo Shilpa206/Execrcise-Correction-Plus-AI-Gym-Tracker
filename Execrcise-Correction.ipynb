{
 "cells": [
  {
   "cell_type": "markdown",
   "id": "d539ee57-ebf2-43e7-9fc8-b86f43653a72",
   "metadata": {},
   "source": [
    "Install & Import Dependencies"
   ]
  },
  {
   "cell_type": "code",
   "execution_count": null,
   "id": "d206a02e-7d43-4c78-9402-0ecfd0c4961a",
   "metadata": {},
   "outputs": [],
   "source": []
  }
 ],
 "metadata": {
  "kernelspec": {
   "display_name": "Python 3 (ipykernel)",
   "language": "python",
   "name": "python3"
  },
  "language_info": {
   "codemirror_mode": {
    "name": "ipython",
    "version": 3
   },
   "file_extension": ".py",
   "mimetype": "text/x-python",
   "name": "python",
   "nbconvert_exporter": "python",
   "pygments_lexer": "ipython3",
   "version": "3.11.7"
  }
 },
 "nbformat": 4,
 "nbformat_minor": 5
}
